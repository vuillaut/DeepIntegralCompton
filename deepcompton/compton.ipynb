{
  "cells": [
    {
      "cell_type": "markdown",
      "metadata": {
        "id": "view-in-github",
        "colab_type": "text"
      },
      "source": [
        "<a href=\"https://colab.research.google.com/github/vuillaut/DeepIntegralCompton/blob/main/deepcompton/compton.ipynb\" target=\"_parent\"><img src=\"https://colab.research.google.com/assets/colab-badge.svg\" alt=\"Open In Colab\"/></a>"
      ]
    },
    {
      "cell_type": "code",
      "execution_count": 1,
      "metadata": {
        "colab": {
          "base_uri": "https://localhost:8080/"
        },
        "id": "pJ4fsZrZJd8o",
        "outputId": "0fee8d17-5833-48d2-938c-1873e2492839"
      },
      "outputs": [
        {
          "output_type": "stream",
          "name": "stdout",
          "text": [
            "Cloning into 'DeepIntegralCompton'...\n",
            "remote: Enumerating objects: 627, done.\u001b[K\n",
            "remote: Counting objects: 100% (627/627), done.\u001b[K\n",
            "remote: Compressing objects: 100% (416/416), done.\u001b[K\n",
            "remote: Total 627 (delta 379), reused 400 (delta 197), pack-reused 0\u001b[K\n",
            "Receiving objects: 100% (627/627), 6.14 MiB | 19.96 MiB/s, done.\n",
            "Resolving deltas: 100% (379/379), done.\n"
          ]
        }
      ],
      "source": [
        "!git clone https://github.com/vuillaut/DeepIntegralCompton.git"
      ]
    },
    {
      "cell_type": "code",
      "execution_count": 2,
      "metadata": {
        "id": "17UMfOOcNnmE"
      },
      "outputs": [],
      "source": [
        "import numpy as np"
      ]
    },
    {
      "cell_type": "code",
      "execution_count": 3,
      "metadata": {
        "id": "oWiqwSYHNq13"
      },
      "outputs": [],
      "source": [
        "%load_ext autoreload\n",
        "%autoreload 2"
      ]
    },
    {
      "cell_type": "code",
      "source": [
        "%cd DeepIntegralCompton\n",
        "!ls"
      ],
      "metadata": {
        "colab": {
          "base_uri": "https://localhost:8080/"
        },
        "id": "RaYOlOI7Z4qy",
        "outputId": "f6433935-745a-4012-dce9-39410efa7afa"
      },
      "execution_count": 4,
      "outputs": [
        {
          "output_type": "stream",
          "name": "stdout",
          "text": [
            "/content/DeepIntegralCompton\n",
            "cnn_1_layer.py\tcnn_4_layer.py\tdocs\t\t examples   setup.py\n",
            "cnn_2_layer.py\tcnn_model_1.py\tdocuments\t LICENSE    slurms\n",
            "cnn_3_layer.py\tdeepcompton\tenvironment.yml  README.md\n"
          ]
        }
      ]
    },
    {
      "cell_type": "code",
      "source": [
        "!pip install .;"
      ],
      "metadata": {
        "colab": {
          "base_uri": "https://localhost:8080/"
        },
        "id": "3V8J_fzJZ9ai",
        "outputId": "cb85cb18-8732-40e7-f876-e1261d525d4f"
      },
      "execution_count": 5,
      "outputs": [
        {
          "output_type": "stream",
          "name": "stdout",
          "text": [
            "Processing /content/DeepIntegralCompton\n",
            "\u001b[33m  DEPRECATION: A future pip version will change local packages to be built in-place without first copying to a temporary directory. We recommend you use --use-feature=in-tree-build to test your packages with this new behavior before it becomes the default.\n",
            "   pip 21.3 will remove support for this functionality. You can find discussion regarding this at https://github.com/pypa/pip/issues/7555.\u001b[0m\n",
            "Requirement already satisfied: numpy in /usr/local/lib/python3.7/dist-packages (from deepcompton==0.1) (1.19.5)\n",
            "Requirement already satisfied: matplotlib in /usr/local/lib/python3.7/dist-packages (from deepcompton==0.1) (3.2.2)\n",
            "Requirement already satisfied: pandas in /usr/local/lib/python3.7/dist-packages (from deepcompton==0.1) (1.1.5)\n",
            "Requirement already satisfied: sklearn in /usr/local/lib/python3.7/dist-packages (from deepcompton==0.1) (0.0)\n",
            "Requirement already satisfied: tensorflow in /usr/local/lib/python3.7/dist-packages (from deepcompton==0.1) (2.7.0)\n",
            "Requirement already satisfied: astropy in /usr/local/lib/python3.7/dist-packages (from deepcompton==0.1) (4.3.1)\n",
            "Requirement already satisfied: tqdm in /usr/local/lib/python3.7/dist-packages (from deepcompton==0.1) (4.62.3)\n",
            "Requirement already satisfied: pyerfa>=1.7.3 in /usr/local/lib/python3.7/dist-packages (from astropy->deepcompton==0.1) (2.0.0.1)\n",
            "Requirement already satisfied: importlib-metadata in /usr/local/lib/python3.7/dist-packages (from astropy->deepcompton==0.1) (4.8.2)\n",
            "Requirement already satisfied: zipp>=0.5 in /usr/local/lib/python3.7/dist-packages (from importlib-metadata->astropy->deepcompton==0.1) (3.6.0)\n",
            "Requirement already satisfied: typing-extensions>=3.6.4 in /usr/local/lib/python3.7/dist-packages (from importlib-metadata->astropy->deepcompton==0.1) (3.10.0.2)\n",
            "Requirement already satisfied: pyparsing!=2.0.4,!=2.1.2,!=2.1.6,>=2.0.1 in /usr/local/lib/python3.7/dist-packages (from matplotlib->deepcompton==0.1) (3.0.6)\n",
            "Requirement already satisfied: kiwisolver>=1.0.1 in /usr/local/lib/python3.7/dist-packages (from matplotlib->deepcompton==0.1) (1.3.2)\n",
            "Requirement already satisfied: cycler>=0.10 in /usr/local/lib/python3.7/dist-packages (from matplotlib->deepcompton==0.1) (0.11.0)\n",
            "Requirement already satisfied: python-dateutil>=2.1 in /usr/local/lib/python3.7/dist-packages (from matplotlib->deepcompton==0.1) (2.8.2)\n",
            "Requirement already satisfied: six>=1.5 in /usr/local/lib/python3.7/dist-packages (from python-dateutil>=2.1->matplotlib->deepcompton==0.1) (1.15.0)\n",
            "Requirement already satisfied: pytz>=2017.2 in /usr/local/lib/python3.7/dist-packages (from pandas->deepcompton==0.1) (2018.9)\n",
            "Requirement already satisfied: scikit-learn in /usr/local/lib/python3.7/dist-packages (from sklearn->deepcompton==0.1) (1.0.1)\n",
            "Requirement already satisfied: joblib>=0.11 in /usr/local/lib/python3.7/dist-packages (from scikit-learn->sklearn->deepcompton==0.1) (1.1.0)\n",
            "Requirement already satisfied: scipy>=1.1.0 in /usr/local/lib/python3.7/dist-packages (from scikit-learn->sklearn->deepcompton==0.1) (1.4.1)\n",
            "Requirement already satisfied: threadpoolctl>=2.0.0 in /usr/local/lib/python3.7/dist-packages (from scikit-learn->sklearn->deepcompton==0.1) (3.0.0)\n",
            "Requirement already satisfied: keras<2.8,>=2.7.0rc0 in /usr/local/lib/python3.7/dist-packages (from tensorflow->deepcompton==0.1) (2.7.0)\n",
            "Requirement already satisfied: libclang>=9.0.1 in /usr/local/lib/python3.7/dist-packages (from tensorflow->deepcompton==0.1) (12.0.0)\n",
            "Requirement already satisfied: wheel<1.0,>=0.32.0 in /usr/local/lib/python3.7/dist-packages (from tensorflow->deepcompton==0.1) (0.37.0)\n",
            "Requirement already satisfied: tensorboard~=2.6 in /usr/local/lib/python3.7/dist-packages (from tensorflow->deepcompton==0.1) (2.7.0)\n",
            "Requirement already satisfied: absl-py>=0.4.0 in /usr/local/lib/python3.7/dist-packages (from tensorflow->deepcompton==0.1) (0.12.0)\n",
            "Requirement already satisfied: astunparse>=1.6.0 in /usr/local/lib/python3.7/dist-packages (from tensorflow->deepcompton==0.1) (1.6.3)\n",
            "Requirement already satisfied: h5py>=2.9.0 in /usr/local/lib/python3.7/dist-packages (from tensorflow->deepcompton==0.1) (3.1.0)\n",
            "Requirement already satisfied: tensorflow-io-gcs-filesystem>=0.21.0 in /usr/local/lib/python3.7/dist-packages (from tensorflow->deepcompton==0.1) (0.22.0)\n",
            "Requirement already satisfied: wrapt>=1.11.0 in /usr/local/lib/python3.7/dist-packages (from tensorflow->deepcompton==0.1) (1.13.3)\n",
            "Requirement already satisfied: gast<0.5.0,>=0.2.1 in /usr/local/lib/python3.7/dist-packages (from tensorflow->deepcompton==0.1) (0.4.0)\n",
            "Requirement already satisfied: google-pasta>=0.1.1 in /usr/local/lib/python3.7/dist-packages (from tensorflow->deepcompton==0.1) (0.2.0)\n",
            "Requirement already satisfied: flatbuffers<3.0,>=1.12 in /usr/local/lib/python3.7/dist-packages (from tensorflow->deepcompton==0.1) (2.0)\n",
            "Requirement already satisfied: keras-preprocessing>=1.1.1 in /usr/local/lib/python3.7/dist-packages (from tensorflow->deepcompton==0.1) (1.1.2)\n",
            "Requirement already satisfied: protobuf>=3.9.2 in /usr/local/lib/python3.7/dist-packages (from tensorflow->deepcompton==0.1) (3.17.3)\n",
            "Requirement already satisfied: tensorflow-estimator<2.8,~=2.7.0rc0 in /usr/local/lib/python3.7/dist-packages (from tensorflow->deepcompton==0.1) (2.7.0)\n",
            "Requirement already satisfied: opt-einsum>=2.3.2 in /usr/local/lib/python3.7/dist-packages (from tensorflow->deepcompton==0.1) (3.3.0)\n",
            "Requirement already satisfied: termcolor>=1.1.0 in /usr/local/lib/python3.7/dist-packages (from tensorflow->deepcompton==0.1) (1.1.0)\n",
            "Requirement already satisfied: grpcio<2.0,>=1.24.3 in /usr/local/lib/python3.7/dist-packages (from tensorflow->deepcompton==0.1) (1.42.0)\n",
            "Requirement already satisfied: cached-property in /usr/local/lib/python3.7/dist-packages (from h5py>=2.9.0->tensorflow->deepcompton==0.1) (1.5.2)\n",
            "Requirement already satisfied: tensorboard-plugin-wit>=1.6.0 in /usr/local/lib/python3.7/dist-packages (from tensorboard~=2.6->tensorflow->deepcompton==0.1) (1.8.0)\n",
            "Requirement already satisfied: werkzeug>=0.11.15 in /usr/local/lib/python3.7/dist-packages (from tensorboard~=2.6->tensorflow->deepcompton==0.1) (1.0.1)\n",
            "Requirement already satisfied: markdown>=2.6.8 in /usr/local/lib/python3.7/dist-packages (from tensorboard~=2.6->tensorflow->deepcompton==0.1) (3.3.6)\n",
            "Requirement already satisfied: setuptools>=41.0.0 in /usr/local/lib/python3.7/dist-packages (from tensorboard~=2.6->tensorflow->deepcompton==0.1) (57.4.0)\n",
            "Requirement already satisfied: tensorboard-data-server<0.7.0,>=0.6.0 in /usr/local/lib/python3.7/dist-packages (from tensorboard~=2.6->tensorflow->deepcompton==0.1) (0.6.1)\n",
            "Requirement already satisfied: google-auth-oauthlib<0.5,>=0.4.1 in /usr/local/lib/python3.7/dist-packages (from tensorboard~=2.6->tensorflow->deepcompton==0.1) (0.4.6)\n",
            "Requirement already satisfied: requests<3,>=2.21.0 in /usr/local/lib/python3.7/dist-packages (from tensorboard~=2.6->tensorflow->deepcompton==0.1) (2.23.0)\n",
            "Requirement already satisfied: google-auth<3,>=1.6.3 in /usr/local/lib/python3.7/dist-packages (from tensorboard~=2.6->tensorflow->deepcompton==0.1) (1.35.0)\n",
            "Requirement already satisfied: rsa<5,>=3.1.4 in /usr/local/lib/python3.7/dist-packages (from google-auth<3,>=1.6.3->tensorboard~=2.6->tensorflow->deepcompton==0.1) (4.8)\n",
            "Requirement already satisfied: cachetools<5.0,>=2.0.0 in /usr/local/lib/python3.7/dist-packages (from google-auth<3,>=1.6.3->tensorboard~=2.6->tensorflow->deepcompton==0.1) (4.2.4)\n",
            "Requirement already satisfied: pyasn1-modules>=0.2.1 in /usr/local/lib/python3.7/dist-packages (from google-auth<3,>=1.6.3->tensorboard~=2.6->tensorflow->deepcompton==0.1) (0.2.8)\n",
            "Requirement already satisfied: requests-oauthlib>=0.7.0 in /usr/local/lib/python3.7/dist-packages (from google-auth-oauthlib<0.5,>=0.4.1->tensorboard~=2.6->tensorflow->deepcompton==0.1) (1.3.0)\n",
            "Requirement already satisfied: pyasn1<0.5.0,>=0.4.6 in /usr/local/lib/python3.7/dist-packages (from pyasn1-modules>=0.2.1->google-auth<3,>=1.6.3->tensorboard~=2.6->tensorflow->deepcompton==0.1) (0.4.8)\n",
            "Requirement already satisfied: urllib3!=1.25.0,!=1.25.1,<1.26,>=1.21.1 in /usr/local/lib/python3.7/dist-packages (from requests<3,>=2.21.0->tensorboard~=2.6->tensorflow->deepcompton==0.1) (1.24.3)\n",
            "Requirement already satisfied: certifi>=2017.4.17 in /usr/local/lib/python3.7/dist-packages (from requests<3,>=2.21.0->tensorboard~=2.6->tensorflow->deepcompton==0.1) (2021.10.8)\n",
            "Requirement already satisfied: idna<3,>=2.5 in /usr/local/lib/python3.7/dist-packages (from requests<3,>=2.21.0->tensorboard~=2.6->tensorflow->deepcompton==0.1) (2.10)\n",
            "Requirement already satisfied: chardet<4,>=3.0.2 in /usr/local/lib/python3.7/dist-packages (from requests<3,>=2.21.0->tensorboard~=2.6->tensorflow->deepcompton==0.1) (3.0.4)\n",
            "Requirement already satisfied: oauthlib>=3.0.0 in /usr/local/lib/python3.7/dist-packages (from requests-oauthlib>=0.7.0->google-auth-oauthlib<0.5,>=0.4.1->tensorboard~=2.6->tensorflow->deepcompton==0.1) (3.1.1)\n",
            "Building wheels for collected packages: deepcompton\n",
            "  Building wheel for deepcompton (setup.py) ... \u001b[?25l\u001b[?25hdone\n",
            "  Created wheel for deepcompton: filename=deepcompton-0.1-py3-none-any.whl size=104859 sha256=492284fd957196b25055ab2d1471504309e948e3b107921c82b8c526a1d350de\n",
            "  Stored in directory: /tmp/pip-ephem-wheel-cache-pf85wkm5/wheels/0f/36/e7/f5d2c573a763d395389d0c445b90cc7de1ac706dac8bc86319\n",
            "Successfully built deepcompton\n",
            "Installing collected packages: deepcompton\n",
            "Successfully installed deepcompton-0.1\n"
          ]
        }
      ]
    },
    {
      "cell_type": "code",
      "execution_count": 6,
      "metadata": {
        "colab": {
          "base_uri": "https://localhost:8080/"
        },
        "id": "pSCCXOrjMyoz",
        "outputId": "10b73f1e-b8e2-4e42-a21a-c8ba0e19bdc2"
      },
      "outputs": [
        {
          "output_type": "stream",
          "name": "stdout",
          "text": [
            "--2021-12-09 14:25:28--  https://share.obspm.fr/s/onyBiezksFnydt7/download/dataset_angles.pickle\n",
            "Resolving share.obspm.fr (share.obspm.fr)... 145.238.186.112\n",
            "Connecting to share.obspm.fr (share.obspm.fr)|145.238.186.112|:443... connected.\n",
            "HTTP request sent, awaiting response... 200 OK\n",
            "Length: 236104518 (225M) [application/octet-stream]\n",
            "Saving to: ‘dataset_angles.pickle’\n",
            "\n",
            "dataset_angles.pick 100%[===================>] 225.17M  22.8MB/s    in 10s     \n",
            "\n",
            "2021-12-09 14:25:38 (22.2 MB/s) - ‘dataset_angles.pickle’ saved [236104518/236104518]\n",
            "\n"
          ]
        }
      ],
      "source": [
        "!wget https://share.obspm.fr/s/onyBiezksFnydt7/download/dataset_angles.pickle"
      ]
    },
    {
      "cell_type": "code",
      "execution_count": 7,
      "metadata": {
        "id": "fBzDk5saOnbd"
      },
      "outputs": [],
      "source": [
        "from deepcompton.cones import AnglesDataset \n",
        "from deepcompton.prepareData import defineAllSample"
      ]
    },
    {
      "cell_type": "code",
      "execution_count": 8,
      "metadata": {
        "id": "ET9IWTWuPHoa"
      },
      "outputs": [],
      "source": [
        "myAngle = AnglesDataset()"
      ]
    },
    {
      "cell_type": "code",
      "execution_count": 9,
      "metadata": {
        "id": "k5hf6aEVPNWP"
      },
      "outputs": [],
      "source": [
        "myAngle.load(\"./dataset_angles.pickle\");"
      ]
    },
    {
      "cell_type": "code",
      "execution_count": 10,
      "metadata": {
        "colab": {
          "base_uri": "https://localhost:8080/"
        },
        "id": "3HCFA3W8j9i8",
        "outputId": "e2aece45-b52b-4633-d111-42626aee4e05"
      },
      "outputs": [
        {
          "output_type": "stream",
          "name": "stdout",
          "text": [
            "0\n",
            "100\n",
            "200\n",
            "300\n",
            "400\n",
            "500\n",
            "600\n",
            "700\n",
            "800\n",
            "900\n",
            "1000\n",
            "1100\n",
            "1200\n",
            "1300\n",
            "1400\n",
            "1500\n",
            "1600\n",
            "1700\n",
            "1800\n",
            "1900\n",
            "2000\n",
            "2100\n",
            "2200\n",
            "2300\n",
            "2400\n",
            "2500\n",
            "2600\n",
            "2700\n",
            "2800\n",
            "2900\n",
            "3000\n",
            "3100\n",
            "3200\n",
            "3300\n",
            "3400\n",
            "3500\n",
            "3600\n",
            "3700\n"
          ]
        }
      ],
      "source": [
        "targetTheta, targetPhi, anglesTrain, anglesTest = defineAllSample(myAngle.tab, nbOfSample=20, nbOfPhotonsMax=100, nbOfPhotonsMin=50, maskValue=0.0)"
      ]
    },
    {
      "cell_type": "code",
      "source": [
        "from deepcompton.IndipendentNormalWaveNet import runModelAndReturnPrediction\n",
        "modelWaveIndepNormal = runModelAndReturnPrediction(targetPhi, targetTheta, anglesTrain, anglesTest, 1, 120)\n",
        "modelWaveIndepNormal.summary()"
      ],
      "metadata": {
        "colab": {
          "base_uri": "https://localhost:8080/"
        },
        "id": "YKh9gvzyeTXH",
        "outputId": "cf077c58-e628-4c76-88a0-06cb406fb9a4"
      },
      "execution_count": 14,
      "outputs": [
        {
          "output_type": "stream",
          "name": "stdout",
          "text": [
            "619/619 [==============================] - 10s 13ms/step - loss: 2.7620\n",
            "Model: \"sequential_1\"\n",
            "_________________________________________________________________\n",
            " Layer (type)                Output Shape              Param #   \n",
            "=================================================================\n",
            " conv1d_9 (Conv1D)           (None, None, 20)          140       \n",
            "                                                                 \n",
            " conv1d_10 (Conv1D)          (None, None, 20)          820       \n",
            "                                                                 \n",
            " conv1d_11 (Conv1D)          (None, None, 20)          820       \n",
            "                                                                 \n",
            " conv1d_12 (Conv1D)          (None, None, 20)          820       \n",
            "                                                                 \n",
            " conv1d_13 (Conv1D)          (None, None, 20)          820       \n",
            "                                                                 \n",
            " conv1d_14 (Conv1D)          (None, None, 20)          820       \n",
            "                                                                 \n",
            " conv1d_15 (Conv1D)          (None, None, 20)          820       \n",
            "                                                                 \n",
            " conv1d_16 (Conv1D)          (None, None, 20)          820       \n",
            "                                                                 \n",
            " conv1d_17 (Conv1D)          (None, None, 10)          210       \n",
            "                                                                 \n",
            " global_average_pooling1d_1   (None, 10)               0         \n",
            " (GlobalAveragePooling1D)                                        \n",
            "                                                                 \n",
            " dense_1 (Dense)             (None, 4)                 44        \n",
            "                                                                 \n",
            " independent_normal_1 (Indep  ((None, 2),              0         \n",
            " endentNormal)                (None, 2))                         \n",
            "                                                                 \n",
            "=================================================================\n",
            "Total params: 6,134\n",
            "Trainable params: 6,134\n",
            "Non-trainable params: 0\n",
            "_________________________________________________________________\n"
          ]
        }
      ]
    },
    {
      "cell_type": "code",
      "source": [
        "from deepcompton.MultiVariateWaveNet import runModelAndReturnPrediction\n",
        "multiVariateModel = runModelAndReturnPrediction(targetPhi, targetTheta, anglesTrain, anglesTest, 1, 120)\n",
        "multiVariateModel.summary()"
      ],
      "metadata": {
        "colab": {
          "base_uri": "https://localhost:8080/"
        },
        "id": "VIQrttthf7U8",
        "outputId": "637b62b6-2f60-44c1-c92c-08b2eba6d1ce"
      },
      "execution_count": 15,
      "outputs": [
        {
          "output_type": "stream",
          "name": "stdout",
          "text": [
            "619/619 [==============================] - 16s 16ms/step - loss: 5.4778\n",
            "Model: \"sequential_2\"\n",
            "_________________________________________________________________\n",
            " Layer (type)                Output Shape              Param #   \n",
            "=================================================================\n",
            " conv1d_18 (Conv1D)          (None, None, 20)          140       \n",
            "                                                                 \n",
            " conv1d_19 (Conv1D)          (None, None, 20)          820       \n",
            "                                                                 \n",
            " conv1d_20 (Conv1D)          (None, None, 20)          820       \n",
            "                                                                 \n",
            " conv1d_21 (Conv1D)          (None, None, 20)          820       \n",
            "                                                                 \n",
            " conv1d_22 (Conv1D)          (None, None, 20)          820       \n",
            "                                                                 \n",
            " conv1d_23 (Conv1D)          (None, None, 20)          820       \n",
            "                                                                 \n",
            " conv1d_24 (Conv1D)          (None, None, 20)          820       \n",
            "                                                                 \n",
            " conv1d_25 (Conv1D)          (None, None, 20)          820       \n",
            "                                                                 \n",
            " conv1d_26 (Conv1D)          (None, None, 10)          210       \n",
            "                                                                 \n",
            " global_average_pooling1d_2   (None, 10)               0         \n",
            " (GlobalAveragePooling1D)                                        \n",
            "                                                                 \n",
            " dense_2 (Dense)             (None, 5)                 55        \n",
            "                                                                 \n",
            " multivariate_normal_tri_l (  ((None, 2),              0         \n",
            " MultivariateNormalTriL)      (None, 2))                         \n",
            "                                                                 \n",
            "=================================================================\n",
            "Total params: 6,145\n",
            "Trainable params: 6,145\n",
            "Non-trainable params: 0\n",
            "_________________________________________________________________\n"
          ]
        }
      ]
    },
    {
      "cell_type": "code",
      "source": [
        "from deepcompton.TensorFlowLSTM import runModelAndReturnPrediction\n",
        "YPred_train, Ypred_test,modelLSTM = runModelAndReturnPrediction(targetPhi, targetTheta, anglesTrain, anglesTest, 1, 120)\n",
        "modelLSTM.summary()"
      ],
      "metadata": {
        "id": "5IVafOYhG6ri",
        "colab": {
          "base_uri": "https://localhost:8080/"
        },
        "outputId": "b09749b3-2404-4be5-b04b-93dd7562df3d"
      },
      "execution_count": 16,
      "outputs": [
        {
          "output_type": "stream",
          "name": "stdout",
          "text": [
            "619/619 [==============================] - 32s 40ms/step - loss: 1.8571 - mse: 1.8571\n",
            "Model: \"sequential_3\"\n",
            "_________________________________________________________________\n",
            " Layer (type)                Output Shape              Param #   \n",
            "=================================================================\n",
            " lstm (LSTM)                 (None, None, 20)          1920      \n",
            "                                                                 \n",
            " masking (Masking)           (None, None, 20)          0         \n",
            "                                                                 \n",
            " lstm_1 (LSTM)               (None, 20)                3280      \n",
            "                                                                 \n",
            " dense_3 (Dense)             (None, 2)                 42        \n",
            "                                                                 \n",
            "=================================================================\n",
            "Total params: 5,242\n",
            "Trainable params: 5,242\n",
            "Non-trainable params: 0\n",
            "_________________________________________________________________\n"
          ]
        }
      ]
    },
    {
      "cell_type": "code",
      "source": [
        "from deepcompton.TensorFlowSimpleRNN import runModelAndReturnPrediction\n",
        "YPred_train, Ypred_test, modelRNN = runModelAndReturnPrediction(targetPhi, targetTheta, anglesTrain, anglesTest, 1, 120)\n",
        "modelRNN.summary()"
      ],
      "metadata": {
        "id": "VDlxbRGdaQC6",
        "colab": {
          "base_uri": "https://localhost:8080/"
        },
        "outputId": "99fc0c4e-4a00-47bb-e197-2e658f6e278d"
      },
      "execution_count": 17,
      "outputs": [
        {
          "output_type": "stream",
          "name": "stdout",
          "text": [
            "619/619 [==============================] - 207s 330ms/step - loss: 2.9983 - mse: 2.9983\n",
            "Model: \"sequential_4\"\n",
            "_________________________________________________________________\n",
            " Layer (type)                Output Shape              Param #   \n",
            "=================================================================\n",
            " simple_rnn (SimpleRNN)      (None, None, 20)          480       \n",
            "                                                                 \n",
            " masking_1 (Masking)         (None, None, 20)          0         \n",
            "                                                                 \n",
            " batch_normalization (BatchN  (None, None, 20)         80        \n",
            " ormalization)                                                   \n",
            "                                                                 \n",
            " simple_rnn_1 (SimpleRNN)    (None, 20)                820       \n",
            "                                                                 \n",
            " batch_normalization_1 (Batc  (None, 20)               80        \n",
            " hNormalization)                                                 \n",
            "                                                                 \n",
            " dense_4 (Dense)             (None, 2)                 42        \n",
            "                                                                 \n",
            "=================================================================\n",
            "Total params: 1,502\n",
            "Trainable params: 1,422\n",
            "Non-trainable params: 80\n",
            "_________________________________________________________________\n"
          ]
        }
      ]
    },
   

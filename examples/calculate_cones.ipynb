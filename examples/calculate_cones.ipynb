{
 "cells": [
  {
   "cell_type": "code",
   "execution_count": 8,
   "id": "9de2af07-ac29-4459-a89f-248b98fa3759",
   "metadata": {},
   "outputs": [],
   "source": [
    "# %load_ext autoreload\n",
    "# %autoreload 2"
   ]
  },
  {
   "cell_type": "code",
   "execution_count": 2,
   "id": "81e270a4-28fe-4f69-830d-874fb37be506",
   "metadata": {},
   "outputs": [],
   "source": [
    "import matplotlib.pyplot as plt"
   ]
  },
  {
   "cell_type": "code",
   "execution_count": 3,
   "id": "15e8d166-7142-4dfc-9285-52a0d413798d",
   "metadata": {},
   "outputs": [],
   "source": [
    "from deepcompton.utils import get_test_data_path, load_data\n",
    "from deepcompton import cones, constants"
   ]
  },
  {
   "cell_type": "code",
   "execution_count": 4,
   "id": "80aa271c-fafb-4a43-b01a-bee1bc3c3d01",
   "metadata": {},
   "outputs": [],
   "source": [
    "data, source_theta, source_phi = load_data(get_test_data_path())"
   ]
  },
  {
   "cell_type": "code",
   "execution_count": 5,
   "id": "904d0677-6cce-469d-ac8e-fa29bfd18e44",
   "metadata": {},
   "outputs": [
    {
     "data": {
      "text/html": [
       "<div>\n",
       "<style scoped>\n",
       "    .dataframe tbody tr th:only-of-type {\n",
       "        vertical-align: middle;\n",
       "    }\n",
       "\n",
       "    .dataframe tbody tr th {\n",
       "        vertical-align: top;\n",
       "    }\n",
       "\n",
       "    .dataframe thead th {\n",
       "        text-align: right;\n",
       "    }\n",
       "</style>\n",
       "<table border=\"1\" class=\"dataframe\">\n",
       "  <thead>\n",
       "    <tr style=\"text-align: right;\">\n",
       "      <th></th>\n",
       "      <th>e1</th>\n",
       "      <th>e2</th>\n",
       "      <th>yy1</th>\n",
       "      <th>zz1</th>\n",
       "      <th>yy2</th>\n",
       "      <th>zz2</th>\n",
       "      <th>y1</th>\n",
       "      <th>z1</th>\n",
       "      <th>y2</th>\n",
       "      <th>z2</th>\n",
       "    </tr>\n",
       "  </thead>\n",
       "  <tbody>\n",
       "    <tr>\n",
       "      <th>0</th>\n",
       "      <td>88.0</td>\n",
       "      <td>351.0</td>\n",
       "      <td>37.0</td>\n",
       "      <td>46.0</td>\n",
       "      <td>27.0</td>\n",
       "      <td>14.0</td>\n",
       "      <td>16.796875</td>\n",
       "      <td>20.937500</td>\n",
       "      <td>24.375000</td>\n",
       "      <td>12.421875</td>\n",
       "    </tr>\n",
       "    <tr>\n",
       "      <th>1</th>\n",
       "      <td>84.0</td>\n",
       "      <td>204.0</td>\n",
       "      <td>29.0</td>\n",
       "      <td>72.0</td>\n",
       "      <td>7.0</td>\n",
       "      <td>42.0</td>\n",
       "      <td>13.109375</td>\n",
       "      <td>32.875000</td>\n",
       "      <td>5.980469</td>\n",
       "      <td>38.187500</td>\n",
       "    </tr>\n",
       "    <tr>\n",
       "      <th>2</th>\n",
       "      <td>83.0</td>\n",
       "      <td>388.0</td>\n",
       "      <td>43.0</td>\n",
       "      <td>65.0</td>\n",
       "      <td>30.0</td>\n",
       "      <td>35.0</td>\n",
       "      <td>19.546875</td>\n",
       "      <td>29.671875</td>\n",
       "      <td>27.140625</td>\n",
       "      <td>31.734375</td>\n",
       "    </tr>\n",
       "    <tr>\n",
       "      <th>3</th>\n",
       "      <td>57.0</td>\n",
       "      <td>281.0</td>\n",
       "      <td>19.0</td>\n",
       "      <td>58.0</td>\n",
       "      <td>8.0</td>\n",
       "      <td>41.0</td>\n",
       "      <td>8.507812</td>\n",
       "      <td>26.453125</td>\n",
       "      <td>6.898438</td>\n",
       "      <td>37.250000</td>\n",
       "    </tr>\n",
       "    <tr>\n",
       "      <th>4</th>\n",
       "      <td>16.0</td>\n",
       "      <td>273.0</td>\n",
       "      <td>82.0</td>\n",
       "      <td>46.0</td>\n",
       "      <td>48.0</td>\n",
       "      <td>29.0</td>\n",
       "      <td>37.500000</td>\n",
       "      <td>20.937500</td>\n",
       "      <td>43.687500</td>\n",
       "      <td>26.218750</td>\n",
       "    </tr>\n",
       "  </tbody>\n",
       "</table>\n",
       "</div>"
      ],
      "text/plain": [
       "     e1     e2   yy1   zz1   yy2   zz2         y1         z1         y2  \\\n",
       "0  88.0  351.0  37.0  46.0  27.0  14.0  16.796875  20.937500  24.375000   \n",
       "1  84.0  204.0  29.0  72.0   7.0  42.0  13.109375  32.875000   5.980469   \n",
       "2  83.0  388.0  43.0  65.0  30.0  35.0  19.546875  29.671875  27.140625   \n",
       "3  57.0  281.0  19.0  58.0   8.0  41.0   8.507812  26.453125   6.898438   \n",
       "4  16.0  273.0  82.0  46.0  48.0  29.0  37.500000  20.937500  43.687500   \n",
       "\n",
       "          z2  \n",
       "0  12.421875  \n",
       "1  38.187500  \n",
       "2  31.734375  \n",
       "3  37.250000  \n",
       "4  26.218750  "
      ]
     },
     "execution_count": 5,
     "metadata": {},
     "output_type": "execute_result"
    }
   ],
   "source": [
    "data.head()"
   ]
  },
  {
   "cell_type": "code",
   "execution_count": 6,
   "id": "c89e3880-3cf8-470a-a7c1-6332e7d0576f",
   "metadata": {},
   "outputs": [],
   "source": [
    "cones_array = np.apply_along_axis(cones.make_cone, axis=1, arr=data)\n",
    "theta, phi, cotheta = cones_array.T"
   ]
  },
  {
   "cell_type": "code",
   "execution_count": 7,
   "id": "1891e71e-852d-496d-95da-18daf9abd248",
   "metadata": {},
   "outputs": [
    {
     "data": {
      "text/plain": [
       "<matplotlib.legend.Legend at 0x11a64d040>"
      ]
     },
     "execution_count": 7,
     "metadata": {},
     "output_type": "execute_result"
    },
    {
     "data": {
      "image/png": "[encoded data removed]",
      "text/plain": [
       "<Figure size 432x288 with 1 Axes>"
      ]
     },
     "metadata": {
      "needs_background": "light"
     },
     "output_type": "display_data"
    }
   ],
   "source": [
    "opt =  dict(bins=40, histtype='step', lw=2, density=True)\n",
    "plt.hist(theta, label='theta', **opt)\n",
    "plt.hist(phi, label='phi', **opt)\n",
    "plt.hist(cotheta, label='cotheta', **opt)\n",
    "plt.legend()"
   ]
  },
  {
   "cell_type": "code",
   "execution_count": null,
   "id": "07eed402-2ba6-4434-9a00-24410aeedd8a",
   "metadata": {},
   "outputs": [],
   "source": []
  }
 ],
 "metadata": {
  "kernelspec": {
   "display_name": "Python 3 (ipykernel)",
   "language": "python",
   "name": "python3"
  },
  "language_info": {
   "codemirror_mode": {
    "name": "ipython",
    "version": 3
   },
   "file_extension": ".py",
   "mimetype": "text/x-python",
   "name": "python",
   "nbconvert_exporter": "python",
   "pygments_lexer": "ipython3",
   "version": "3.9.7"
  }
 },
 "nbformat": 4,
 "nbformat_minor": 5
}
